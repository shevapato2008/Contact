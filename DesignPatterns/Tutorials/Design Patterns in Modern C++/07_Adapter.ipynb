{
  "nbformat": 4,
  "nbformat_minor": 0,
  "metadata": {
    "colab": {
      "name": "07_Adapter.ipynb",
      "provenance": [],
      "authorship_tag": "ABX9TyPdi6zOwNMRudWcprKMwk/l",
      "include_colab_link": true
    },
    "kernelspec": {
      "name": "python3",
      "display_name": "Python 3"
    }
  },
  "cells": [
    {
      "cell_type": "markdown",
      "metadata": {
        "id": "view-in-github",
        "colab_type": "text"
      },
      "source": [
        "<a href=\"https://colab.research.google.com/github/shevapato2008/Contact/blob/master/DesignPatterns/Tutorials/Design%20Patterns%20in%20Modern%20C%2B%2B/07_Adapter.ipynb\" target=\"_parent\"><img src=\"https://colab.research.google.com/assets/colab-badge.svg\" alt=\"Open In Colab\"/></a>"
      ]
    }
  ]
}